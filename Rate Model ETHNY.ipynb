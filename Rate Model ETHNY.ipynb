{
 "cells": [
  {
   "cell_type": "code",
   "execution_count": 1,
   "id": "153a8fa8",
   "metadata": {},
   "outputs": [],
   "source": [
    "import numpy as np\n",
    "import pandas as pd\n",
    "import requests\n",
    "import matplotlib.pyplot as plt\n",
    "from datetime import datetime\n",
    "import time\n",
    "import math\n",
    "import statistics\n",
    "from datetime import datetime\n",
    "from dateutil.relativedelta import relativedelta, MO\n",
    "from datetime import timedelta\n",
    "from scipy.stats.stats import pearsonr   \n",
    "import pprint"
   ]
  },
  {
   "cell_type": "code",
   "execution_count": 2,
   "id": "e9fa8ac7",
   "metadata": {},
   "outputs": [],
   "source": [
    "current_date = datetime.today()\n",
    "start_date = current_date + relativedelta(months=-6)"
   ]
  },
  {
   "cell_type": "markdown",
   "id": "cf958789",
   "metadata": {},
   "source": [
    "## Vol Param"
   ]
  },
  {
   "cell_type": "code",
   "execution_count": 3,
   "id": "2a8741d5",
   "metadata": {},
   "outputs": [],
   "source": [
    "def get_historical_collection_floor(collection_address, start_date, limit=None):\n",
    "  start_date_unix = time.mktime(start_date.timetuple())\n",
    "  if limit is not None :\n",
    "    url = f\"https://api.reservoir.tools/events/collections/floor-ask/v1?collection={collection_address}&startTimestamp={start_date_unix}&sortDirection=desc&limit={limit}\"\n",
    "  else:\n",
    "    url = f\"https://api.reservoir.tools/events/collections/floor-ask/v1?collection={collection_address}&startTimestamp={start_date_unix}&sortDirection=desc\"\n",
    "  headers = {\n",
    "      \"Accept\": \"*/*\",\n",
    "      \"x-api-key\": \"demo-api-key\"\n",
    "  }\n",
    "  response = requests.get(url, headers=headers)\n",
    "  out = response.json()\n",
    "  return out"
   ]
  },
  {
   "cell_type": "code",
   "execution_count": 4,
   "id": "2296c288",
   "metadata": {},
   "outputs": [],
   "source": [
    "# convert datetime to unix\n",
    "\n",
    "bored_ape_address = \"0xbc4ca0eda7647a8ab7c2061c2e118a18a936f13d\"\n",
    "out = get_historical_collection_floor(bored_ape_address, start_date = start_date, limit = 1000)\n",
    "\n",
    "# Note: Limit must be less than 1000!"
   ]
  },
  {
   "cell_type": "code",
   "execution_count": 5,
   "id": "64a2f2ce",
   "metadata": {},
   "outputs": [],
   "source": [
    "floor_asks = []\n",
    "for event in out['events']:\n",
    "  collection_ = event['event']\n",
    "  floorask_ = event['floorAsk']\n",
    "  floor_asks.append({'price': floorask_['price'],\n",
    "                     'previousPrice': collection_['previousPrice'],\n",
    "                     'source': floorask_['source'],\n",
    "                     'tokenId': floorask_['tokenId'],\n",
    "                     'createdAt': collection_['createdAt'],\n",
    "                     'validUntil': floorask_['validUntil']})\n",
    "\n",
    "floor_asks_df = pd.DataFrame(floor_asks)\n",
    "floor_asks_df['validUntil'] = pd.to_datetime(floor_asks_df['validUntil'].astype(int), unit = 's')\n",
    "floor_asks_df['createdAt'] = pd.to_datetime(floor_asks_df['createdAt'])\n",
    "floor_asks_df = floor_asks_df.sort_values(by = 'createdAt', ascending = False)"
   ]
  },
  {
   "cell_type": "code",
   "execution_count": 6,
   "id": "ca5e87fb",
   "metadata": {},
   "outputs": [
    {
     "data": {
      "text/html": [
       "<div>\n",
       "<style scoped>\n",
       "    .dataframe tbody tr th:only-of-type {\n",
       "        vertical-align: middle;\n",
       "    }\n",
       "\n",
       "    .dataframe tbody tr th {\n",
       "        vertical-align: top;\n",
       "    }\n",
       "\n",
       "    .dataframe thead th {\n",
       "        text-align: right;\n",
       "    }\n",
       "</style>\n",
       "<table border=\"1\" class=\"dataframe\">\n",
       "  <thead>\n",
       "    <tr style=\"text-align: right;\">\n",
       "      <th></th>\n",
       "      <th>price</th>\n",
       "      <th>previousPrice</th>\n",
       "      <th>source</th>\n",
       "      <th>tokenId</th>\n",
       "      <th>createdAt</th>\n",
       "      <th>validUntil</th>\n",
       "    </tr>\n",
       "  </thead>\n",
       "  <tbody>\n",
       "    <tr>\n",
       "      <th>0</th>\n",
       "      <td>87.00</td>\n",
       "      <td>87.17</td>\n",
       "      <td>X2Y2</td>\n",
       "      <td>4146</td>\n",
       "      <td>2022-06-25 19:05:11.253000+00:00</td>\n",
       "      <td>2022-07-21 00:23:08</td>\n",
       "    </tr>\n",
       "    <tr>\n",
       "      <th>1</th>\n",
       "      <td>87.17</td>\n",
       "      <td>86.79</td>\n",
       "      <td>X2Y2</td>\n",
       "      <td>7369</td>\n",
       "      <td>2022-06-24 03:43:23.761000+00:00</td>\n",
       "      <td>2022-06-29 19:01:05</td>\n",
       "    </tr>\n",
       "    <tr>\n",
       "      <th>2</th>\n",
       "      <td>86.79</td>\n",
       "      <td>87.17</td>\n",
       "      <td>OpenSea</td>\n",
       "      <td>9794</td>\n",
       "      <td>2022-06-24 03:17:06.315000+00:00</td>\n",
       "      <td>2022-06-24 22:38:12</td>\n",
       "    </tr>\n",
       "    <tr>\n",
       "      <th>3</th>\n",
       "      <td>87.17</td>\n",
       "      <td>86.70</td>\n",
       "      <td>X2Y2</td>\n",
       "      <td>7369</td>\n",
       "      <td>2022-06-23 12:39:46.993000+00:00</td>\n",
       "      <td>2022-06-29 19:01:05</td>\n",
       "    </tr>\n",
       "    <tr>\n",
       "      <th>4</th>\n",
       "      <td>86.70</td>\n",
       "      <td>87.17</td>\n",
       "      <td>OpenSea</td>\n",
       "      <td>766</td>\n",
       "      <td>2022-06-23 10:37:09.560000+00:00</td>\n",
       "      <td>2022-06-26 10:35:56</td>\n",
       "    </tr>\n",
       "    <tr>\n",
       "      <th>...</th>\n",
       "      <td>...</td>\n",
       "      <td>...</td>\n",
       "      <td>...</td>\n",
       "      <td>...</td>\n",
       "      <td>...</td>\n",
       "      <td>...</td>\n",
       "    </tr>\n",
       "    <tr>\n",
       "      <th>832</th>\n",
       "      <td>109.49</td>\n",
       "      <td>112.00</td>\n",
       "      <td>LooksRare</td>\n",
       "      <td>5171</td>\n",
       "      <td>2022-04-19 05:51:42.756000+00:00</td>\n",
       "      <td>2022-05-19 04:35:59</td>\n",
       "    </tr>\n",
       "    <tr>\n",
       "      <th>833</th>\n",
       "      <td>112.00</td>\n",
       "      <td>109.50</td>\n",
       "      <td>OpenSea</td>\n",
       "      <td>2769</td>\n",
       "      <td>2022-04-19 05:51:34.941000+00:00</td>\n",
       "      <td>2022-04-19 21:48:00</td>\n",
       "    </tr>\n",
       "    <tr>\n",
       "      <th>834</th>\n",
       "      <td>109.50</td>\n",
       "      <td>109.00</td>\n",
       "      <td>OpenSea</td>\n",
       "      <td>5171</td>\n",
       "      <td>2022-04-19 04:34:20.961000+00:00</td>\n",
       "      <td>2022-04-28 11:57:00</td>\n",
       "    </tr>\n",
       "    <tr>\n",
       "      <th>835</th>\n",
       "      <td>109.00</td>\n",
       "      <td>108.00</td>\n",
       "      <td>LooksRare</td>\n",
       "      <td>4751</td>\n",
       "      <td>2022-04-19 02:53:44.772000+00:00</td>\n",
       "      <td>2022-05-17 23:20:00</td>\n",
       "    </tr>\n",
       "    <tr>\n",
       "      <th>836</th>\n",
       "      <td>108.00</td>\n",
       "      <td>NaN</td>\n",
       "      <td>OpenSea</td>\n",
       "      <td>4751</td>\n",
       "      <td>2022-04-18 18:40:01.651000+00:00</td>\n",
       "      <td>2022-04-22 15:48:21</td>\n",
       "    </tr>\n",
       "  </tbody>\n",
       "</table>\n",
       "<p>837 rows × 6 columns</p>\n",
       "</div>"
      ],
      "text/plain": [
       "      price  previousPrice     source tokenId  \\\n",
       "0     87.00          87.17       X2Y2    4146   \n",
       "1     87.17          86.79       X2Y2    7369   \n",
       "2     86.79          87.17    OpenSea    9794   \n",
       "3     87.17          86.70       X2Y2    7369   \n",
       "4     86.70          87.17    OpenSea     766   \n",
       "..      ...            ...        ...     ...   \n",
       "832  109.49         112.00  LooksRare    5171   \n",
       "833  112.00         109.50    OpenSea    2769   \n",
       "834  109.50         109.00    OpenSea    5171   \n",
       "835  109.00         108.00  LooksRare    4751   \n",
       "836  108.00            NaN    OpenSea    4751   \n",
       "\n",
       "                           createdAt          validUntil  \n",
       "0   2022-06-25 19:05:11.253000+00:00 2022-07-21 00:23:08  \n",
       "1   2022-06-24 03:43:23.761000+00:00 2022-06-29 19:01:05  \n",
       "2   2022-06-24 03:17:06.315000+00:00 2022-06-24 22:38:12  \n",
       "3   2022-06-23 12:39:46.993000+00:00 2022-06-29 19:01:05  \n",
       "4   2022-06-23 10:37:09.560000+00:00 2022-06-26 10:35:56  \n",
       "..                               ...                 ...  \n",
       "832 2022-04-19 05:51:42.756000+00:00 2022-05-19 04:35:59  \n",
       "833 2022-04-19 05:51:34.941000+00:00 2022-04-19 21:48:00  \n",
       "834 2022-04-19 04:34:20.961000+00:00 2022-04-28 11:57:00  \n",
       "835 2022-04-19 02:53:44.772000+00:00 2022-05-17 23:20:00  \n",
       "836 2022-04-18 18:40:01.651000+00:00 2022-04-22 15:48:21  \n",
       "\n",
       "[837 rows x 6 columns]"
      ]
     },
     "execution_count": 6,
     "metadata": {},
     "output_type": "execute_result"
    }
   ],
   "source": [
    "floor_asks_df"
   ]
  },
  {
   "cell_type": "code",
   "execution_count": 7,
   "id": "14467c74",
   "metadata": {
    "scrolled": false
   },
   "outputs": [
    {
     "data": {
      "text/plain": [
       "[<matplotlib.lines.Line2D at 0x28e28ede8e0>]"
      ]
     },
     "execution_count": 7,
     "metadata": {},
     "output_type": "execute_result"
    },
    {
     "data": {
      "image/png": "[encoded data removed]",
      "text/plain": [
       "<Figure size 432x288 with 1 Axes>"
      ]
     },
     "metadata": {
      "needs_background": "light"
     },
     "output_type": "display_data"
    }
   ],
   "source": [
    "plt.plot(floor_asks_df['createdAt'], floor_asks_df['price'])"
   ]
  },
  {
   "cell_type": "code",
   "execution_count": 8,
   "id": "5c6fc6f4",
   "metadata": {
    "scrolled": true
   },
   "outputs": [
    {
     "data": {
      "text/plain": [
       "[<matplotlib.lines.Line2D at 0x28e290158e0>]"
      ]
     },
     "execution_count": 8,
     "metadata": {},
     "output_type": "execute_result"
    },
    {
     "data": {
      "image/png": "[encoded data removed]",
      "text/plain": [
       "<Figure size 432x288 with 1 Axes>"
      ]
     },
     "metadata": {
      "needs_background": "light"
     },
     "output_type": "display_data"
    }
   ],
   "source": [
    "a = floor_asks_df.set_index('createdAt')['price']\n",
    "floor_asks_daily = a.resample('D').median().ffill()\n",
    "plt.plot(floor_asks_daily)"
   ]
  },
  {
   "cell_type": "code",
   "execution_count": 9,
   "id": "8ab8d5cc",
   "metadata": {},
   "outputs": [
    {
     "data": {
      "text/plain": [
       "[<matplotlib.lines.Line2D at 0x28e290a27c0>]"
      ]
     },
     "execution_count": 9,
     "metadata": {},
     "output_type": "execute_result"
    },
    {
     "data": {
      "image/png": "[encoded data removed]",
      "text/plain": [
       "<Figure size 432x288 with 1 Axes>"
      ]
     },
     "metadata": {
      "needs_background": "light"
     },
     "output_type": "display_data"
    }
   ],
   "source": [
    "rolling_vol_window = 20\n",
    "rolling_vol = floor_asks_daily.pct_change().rolling(rolling_vol_window).std()\n",
    "plt.plot(rolling_vol)"
   ]
  },
  {
   "cell_type": "code",
   "execution_count": 10,
   "id": "a1a4897e",
   "metadata": {},
   "outputs": [],
   "source": [
    "current_vol = rolling_vol[-1]"
   ]
  },
  {
   "cell_type": "code",
   "execution_count": 11,
   "id": "2183a6e5",
   "metadata": {},
   "outputs": [
    {
     "data": {
      "text/plain": [
       "array([0.05487341, 0.05867432, 0.05950076, 0.05860526, 0.06006468,\n",
       "       0.06384147, 0.06294999, 0.06254042, 0.06185781, 0.06193974,\n",
       "       0.06192163, 0.05937132, 0.05635064, 0.05082161, 0.04708763,\n",
       "       0.04427785, 0.04308043, 0.0426611 , 0.04166946, 0.04143695,\n",
       "       0.04159103, 0.0373277 , 0.03336935, 0.03282086, 0.03001726,\n",
       "       0.02197776, 0.02168707, 0.02113576, 0.02119813, 0.02183546,\n",
       "       0.02234651, 0.02623335, 0.02657792, 0.02698918, 0.02801158,\n",
       "       0.03221251, 0.04119403, 0.04534482, 0.04531511, 0.04557044,\n",
       "       0.05161844, 0.04982517, 0.04923654, 0.05102956, 0.05219243,\n",
       "       0.05203121, 0.05226172, 0.05226069, 0.0522602 ])"
      ]
     },
     "execution_count": 11,
     "metadata": {},
     "output_type": "execute_result"
    }
   ],
   "source": [
    "rolling_vol_array = np.array(rolling_vol)\n",
    "rolling_vol_array = rolling_vol_array[np.logical_not(np.isnan(rolling_vol_array))]\n",
    "rolling_vol_array"
   ]
  },
  {
   "cell_type": "code",
   "execution_count": 12,
   "id": "e1b93da2",
   "metadata": {},
   "outputs": [],
   "source": [
    "mean_vol = statistics.mean(rolling_vol_array)"
   ]
  },
  {
   "cell_type": "code",
   "execution_count": 13,
   "id": "f4a2f64c",
   "metadata": {},
   "outputs": [
    {
     "data": {
      "text/plain": [
       "1.0840645471309265"
      ]
     },
     "execution_count": 13,
     "metadata": {},
     "output_type": "execute_result"
    }
   ],
   "source": [
    "vol_param = math.sqrt(current_vol/mean_vol)\n",
    "vol_param"
   ]
  },
  {
   "cell_type": "markdown",
   "id": "54a8bc2f",
   "metadata": {},
   "source": [
    "## Crypto Market Req Return"
   ]
  },
  {
   "cell_type": "code",
   "execution_count": 14,
   "id": "b76d9ac4",
   "metadata": {},
   "outputs": [
    {
     "data": {
      "text/plain": [
       "{'id': '3b5f9552-e78e-4173-95af-ef555363db44',\n",
       " 'serial_id': 13297,\n",
       " 'symbol': 'NFTI',\n",
       " 'name': 'NFT Index',\n",
       " 'slug': 'nft-index',\n",
       " 'contract_addresses': [{'platform': 'ethereum',\n",
       "   'contract_address': '0xe5feeac09d36b18b3fa757e5cf3f8da6b8e27f4c'}],\n",
       " '_internal_temp_agora_id': '',\n",
       " 'parameters': {'asset_key': 'NFTI',\n",
       "  'asset_id': '3b5f9552-e78e-4173-95af-ef555363db44',\n",
       "  'start': '2022-06-01T00:00:00Z',\n",
       "  'end': '2022-06-26T00:00:00Z',\n",
       "  'interval': '1d',\n",
       "  'order': 'ascending',\n",
       "  'format': 'json',\n",
       "  'timestamp_format': 'unix-milliseconds',\n",
       "  'columns': ['timestamp', 'open', 'high', 'low', 'close', 'volume']},\n",
       " 'schema': {'metric_id': 'price',\n",
       "  'name': 'Price',\n",
       "  'description': 'Volume weighted average price computed using Messari Methodology',\n",
       "  'values_schema': {'timestamp': 'Timestamp in milliseconds since the epoch (1 January 1970 00:00:00 UTC)',\n",
       "   'open': 'The price of the asset at the beginning of the specified interval in US dollars.',\n",
       "   'high': 'The highest price of the asset during the specified interval in US dollars.',\n",
       "   'low': 'The lowest price of the asset during the specified interval in US dollars',\n",
       "   'close': 'The price of the asset at the end of the specified interval in US dollars.',\n",
       "   'volume': 'The total volume traded during the specified interval across all Messari method markets in US dollars'},\n",
       "  'minimum_interval': '1m',\n",
       "  'source_attribution': [{'name': 'Kaiko', 'url': 'https://www.kaiko.com/'}]},\n",
       " 'values': [[1654128000000,\n",
       "   708.6892895049605,\n",
       "   708.6892895049605,\n",
       "   708.6892895049605,\n",
       "   708.6892895049605,\n",
       "   5308.082778392154],\n",
       "  [1654387200000,\n",
       "   686.4250075732562,\n",
       "   686.4250075732562,\n",
       "   650.8016965976773,\n",
       "   652.0983420608917,\n",
       "   67464.23394686492],\n",
       "  [1654473600000,\n",
       "   724.6184080232811,\n",
       "   724.6184080232811,\n",
       "   724.6184080232811,\n",
       "   724.6184080232811,\n",
       "   356.2819926553087],\n",
       "  [1654646400000,\n",
       "   668.7360562140822,\n",
       "   668.7360562140822,\n",
       "   659.0764667281549,\n",
       "   659.0764667281551,\n",
       "   5492.096546124944],\n",
       "  [1654732800000,\n",
       "   659.2741490535603,\n",
       "   659.2741490535604,\n",
       "   659.2741490535603,\n",
       "   659.2741490535604,\n",
       "   874.6651232481619],\n",
       "  [1654905600000,\n",
       "   603.8382929458454,\n",
       "   627.3147270209977,\n",
       "   603.8382929458454,\n",
       "   611.3613130316369,\n",
       "   13419.184909144085],\n",
       "  [1654992000000,\n",
       "   572.2767987760727,\n",
       "   572.2767987760727,\n",
       "   542.9308463880836,\n",
       "   552.9786040153249,\n",
       "   12990.140268673762],\n",
       "  [1655078400000,\n",
       "   442.73404664316166,\n",
       "   468.1255801994106,\n",
       "   442.73404664316166,\n",
       "   468.1255801994106,\n",
       "   12064.947439800104],\n",
       "  [1655164800000,\n",
       "   457.5229769431977,\n",
       "   484.76111552527846,\n",
       "   457.5229769431977,\n",
       "   467.50265723033823,\n",
       "   3489.425098538724],\n",
       "  [1655251200000,\n",
       "   505.0062362184665,\n",
       "   505.0062362184665,\n",
       "   495.48173661847113,\n",
       "   495.48173661847113,\n",
       "   5205.50811252942],\n",
       "  [1655424000000,\n",
       "   451.07623751677977,\n",
       "   469.0467759504775,\n",
       "   451.07623751677977,\n",
       "   459.6907854129925,\n",
       "   4559.42491439917],\n",
       "  [1655510400000,\n",
       "   425.57875068641187,\n",
       "   426.78693364010917,\n",
       "   420.6239192112839,\n",
       "   426.78693364010917,\n",
       "   4260.884097270884],\n",
       "  [1655683200000,\n",
       "   484.66380060032077,\n",
       "   484.6638006003208,\n",
       "   484.66380060032077,\n",
       "   484.6638006003208,\n",
       "   20.355879625213475],\n",
       "  [1655769600000,\n",
       "   507.40909923043824,\n",
       "   507.40909923043824,\n",
       "   502.7868839376695,\n",
       "   502.7868839376696,\n",
       "   4468.571106725017],\n",
       "  [1655856000000,\n",
       "   478.9109554027594,\n",
       "   503.53325445591753,\n",
       "   478.9109554027594,\n",
       "   491.24947144405775,\n",
       "   6561.258266509221],\n",
       "  [1655942400000,\n",
       "   521.8117020322944,\n",
       "   521.8117020322944,\n",
       "   521.1679142375519,\n",
       "   521.1679142375519,\n",
       "   4583.552302023103],\n",
       "  [1656028800000,\n",
       "   570.5788264237607,\n",
       "   570.5788264237607,\n",
       "   570.5788264237607,\n",
       "   570.5788264237607,\n",
       "   5338.689258893088],\n",
       "  [1656115200000,\n",
       "   626.3864396823872,\n",
       "   626.3864396823872,\n",
       "   626.3864396823872,\n",
       "   626.3864396823872,\n",
       "   1583.8309252945226]]}"
      ]
     },
     "execution_count": 14,
     "metadata": {},
     "output_type": "execute_result"
    }
   ],
   "source": [
    "def crypto_timeseries(token, start, finish, interval):\n",
    "    base_url = 'https://data.messari.io/api/v1/assets/'\n",
    "    endpoint = f'{token}/metrics/price/time-series?start={start}&end={finish}&interval={interval}'\n",
    "    url = base_url + endpoint\n",
    "    result = requests.get(url).json()\n",
    "    data = result[\"data\"]\n",
    "    return(data)\n",
    "\n",
    "nfti_df = crypto_timeseries('NFTI', '2022-06-01', '2022-06-26', '1d')\n",
    "tcap_df = crypto_timeseries('TCAP', '2022-06-01', '2022-06-26', '1d')\n",
    "nfti_df\n",
    "# https://data.messari.io/api/v1/assets/zcash/metrics/price/time-series?start=2020-01-01&end=2020-02-01&interval=1d"
   ]
  },
  {
   "cell_type": "code",
   "execution_count": 15,
   "id": "85228301",
   "metadata": {},
   "outputs": [],
   "source": [
    "nfti_list = []\n",
    "for i in range(len(nfti_df['values'])):\n",
    "    nfti_list.append(nfti_df['values'][i][4])\n",
    "    \n",
    "tcap_list = []\n",
    "for i in range(len(tcap_df['values'])):\n",
    "    tcap_list.append(tcap_df['values'][i][4])"
   ]
  },
  {
   "cell_type": "code",
   "execution_count": 16,
   "id": "8742fad9",
   "metadata": {},
   "outputs": [
    {
     "data": {
      "text/plain": [
       "array([[8748.10111052, 1246.25289006],\n",
       "       [1246.25289006,  239.26996042]])"
      ]
     },
     "execution_count": 16,
     "metadata": {},
     "output_type": "execute_result"
    }
   ],
   "source": [
    "var_cov_matrix = np.cov(nfti_list, tcap_list)\n",
    "var_cov_matrix"
   ]
  },
  {
   "cell_type": "code",
   "execution_count": 17,
   "id": "d7cea564",
   "metadata": {},
   "outputs": [],
   "source": [
    "beta = var_cov_matrix[0][1]/var_cov_matrix[1][1]"
   ]
  },
  {
   "cell_type": "code",
   "execution_count": 18,
   "id": "fe35e3ba",
   "metadata": {},
   "outputs": [],
   "source": [
    "rf = 0.0411\n",
    "rm = 0.0567"
   ]
  },
  {
   "cell_type": "code",
   "execution_count": 19,
   "id": "0c1ce0cb",
   "metadata": {},
   "outputs": [
    {
     "data": {
      "text/plain": [
       "0.12235359761301895"
      ]
     },
     "execution_count": 19,
     "metadata": {},
     "output_type": "execute_result"
    }
   ],
   "source": [
    "req_r = rf + beta*(rm - rf)\n",
    "req_r"
   ]
  },
  {
   "cell_type": "markdown",
   "id": "8a34bc0a",
   "metadata": {},
   "source": [
    "## OpenSea whitelisted addresses"
   ]
  },
  {
   "cell_type": "code",
   "execution_count": 20,
   "id": "e19fafbc",
   "metadata": {},
   "outputs": [],
   "source": [
    "def nft_whitelist_verification(contract_addy, token_id):\n",
    "    API_KEY = 'ckey_03e969207241447bb814df6b463'\n",
    "    headers = {\"X-API-KEY\": \"786f40019b704c9da6c95dc29540db71\"}\n",
    "    base_url = 'https://api.opensea.io/api/v1/asset/'\n",
    "    endpoint = f'{contract_addy}/{token_id}/?include_orders=false'\n",
    "    url = base_url + endpoint\n",
    "    result = requests.get(url, headers = headers).json()\n",
    "    return(result['collection']['safelist_request_status'])"
   ]
  },
  {
   "cell_type": "code",
   "execution_count": 21,
   "id": "ba0709a0",
   "metadata": {
    "scrolled": true
   },
   "outputs": [
    {
     "data": {
      "text/plain": [
       "'verified'"
      ]
     },
     "execution_count": 21,
     "metadata": {},
     "output_type": "execute_result"
    }
   ],
   "source": [
    "nft_whitelist_verification('0xb47e3cd837ddf8e4c57f05d70ab865de6e193bbb', '11')"
   ]
  },
  {
   "cell_type": "code",
   "execution_count": null,
   "id": "c9b96407",
   "metadata": {},
   "outputs": [],
   "source": []
  }
 ],
 "metadata": {
  "kernelspec": {
   "display_name": "Python 3",
   "language": "python",
   "name": "python3"
  },
  "language_info": {
   "codemirror_mode": {
    "name": "ipython",
    "version": 3
   },
   "file_extension": ".py",
   "mimetype": "text/x-python",
   "name": "python",
   "nbconvert_exporter": "python",
   "pygments_lexer": "ipython3",
   "version": "3.8.8"
  }
 },
 "nbformat": 4,
 "nbformat_minor": 5
}
