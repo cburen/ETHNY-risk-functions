{
 "cells": [
  {
   "cell_type": "code",
   "execution_count": 9,
   "id": "2484bd44",
   "metadata": {},
   "outputs": [],
   "source": [
    "import requests\n",
    "import re\n",
    "import json\n",
    "import pprint\n",
    "\n",
    "\n",
    "## queries covalent for all tx history for a given address and checks if they have had any \n",
    "## loan liquidations "
   ]
  },
  {
   "cell_type": "code",
   "execution_count": null,
   "id": "6b523d1d",
   "metadata": {},
   "outputs": [],
   "source": []
  },
  {
   "cell_type": "code",
   "execution_count": 13,
   "id": "ec5ab497",
   "metadata": {},
   "outputs": [],
   "source": [
    "\n",
    "def flag_liquidations(chain_id, address):\n",
    "    API_KEY = 'ckey_03e969207241447bb814df6b463'\n",
    "    base_url = 'https://api.covalenthq.com/v1'\n",
    "    endpoint = f'/{chain_id}/address/{address}/transactions_v2/?quote-currency=USD&format=JSON&block-signed-at-asc=false&no-logs=false&page-size=100&key=ckey_03e969207241447bb814df6b463'\n",
    "    url = base_url + endpoint\n",
    "    result = requests.get(url).json()\n",
    "    data = result[\"data\"]\n",
    "    return(data)"
   ]
  },
  {
   "cell_type": "code",
   "execution_count": 6,
   "id": "ab867497",
   "metadata": {
    "scrolled": true
   },
   "outputs": [
    {
     "name": "stdout",
     "output_type": "stream",
     "text": [
      "None\n"
     ]
    }
   ],
   "source": [
    "temp = flag_liquidations(1, '0xb8d1c5d0b34c2335d56a954b91f8bd533a04c2fc')\n",
    "# pprint.pprint(temp)\n",
    "### this shows all of the transaction history for address, huge file so unfortunately can't show it on github :/"
   ]
  },
  {
   "cell_type": "code",
   "execution_count": 16,
   "id": "526e69f7",
   "metadata": {},
   "outputs": [],
   "source": [
    "\n",
    "for i in range(0,1000):\n",
    "    if \"LoanLiquidated\" in "
   ]
  },
  {
   "cell_type": "code",
   "execution_count": 21,
   "id": "ee53ec6c",
   "metadata": {},
   "outputs": [
    {
     "data": {
      "text/plain": [
       "{'block_signed_at': '2022-06-23T10:25:01Z',\n",
       " 'block_height': 15012465,\n",
       " 'tx_hash': '0x8f52e022b1d626e4c5be6013aed5a6476f817c7f3dab74269c80ffdf16827084',\n",
       " 'tx_offset': 297,\n",
       " 'successful': True,\n",
       " 'from_address': '0xb8d1c5d0b34c2335d56a954b91f8bd533a04c2fc',\n",
       " 'from_address_label': None,\n",
       " 'to_address': '0xdac17f958d2ee523a2206206994597c13d831ec7',\n",
       " 'to_address_label': 'Tether USD (USDT)',\n",
       " 'value': '0',\n",
       " 'value_quote': 0.0,\n",
       " 'gas_offered': 94831,\n",
       " 'gas_spent': 63221,\n",
       " 'gas_price': 28083525048,\n",
       " 'fees_paid': '1775468537059608',\n",
       " 'gas_quote': 1.925295801537926,\n",
       " 'gas_quote_rate': 1084.387451171875,\n",
       " 'log_events': [{'block_signed_at': '2022-06-23T10:25:01Z',\n",
       "   'block_height': 15012465,\n",
       "   'tx_offset': 297,\n",
       "   'log_offset': 453,\n",
       "   'tx_hash': '0x8f52e022b1d626e4c5be6013aed5a6476f817c7f3dab74269c80ffdf16827084',\n",
       "   'raw_log_topics': ['0xddf252ad1be2c89b69c2b068fc378daa952ba7f163c4a11628f55a4df523b3ef',\n",
       "    '0x000000000000000000000000b8d1c5d0b34c2335d56a954b91f8bd533a04c2fc',\n",
       "    '0x00000000000000000000000085211c8e109d199ef55b8476319cd614a2683381'],\n",
       "   'sender_contract_decimals': 6,\n",
       "   'sender_name': 'Tether USD',\n",
       "   'sender_contract_ticker_symbol': 'USDT',\n",
       "   'sender_address': '0xdac17f958d2ee523a2206206994597c13d831ec7',\n",
       "   'sender_address_label': 'Tether USD (USDT)',\n",
       "   'sender_logo_url': 'https://logos.covalenthq.com/tokens/0xdac17f958d2ee523a2206206994597c13d831ec7.png',\n",
       "   'raw_log_data': '0x000000000000000000000000000000000000000000000000000000018d43d440',\n",
       "   'decoded': {'name': 'Transfer',\n",
       "    'signature': 'Transfer(indexed address from, indexed address to, uint256 value)',\n",
       "    'params': [{'name': 'from',\n",
       "      'type': 'address',\n",
       "      'indexed': True,\n",
       "      'decoded': True,\n",
       "      'value': '0xb8d1c5d0b34c2335d56a954b91f8bd533a04c2fc'},\n",
       "     {'name': 'to',\n",
       "      'type': 'address',\n",
       "      'indexed': True,\n",
       "      'decoded': True,\n",
       "      'value': '0x85211c8e109d199ef55b8476319cd614a2683381'},\n",
       "     {'name': 'value',\n",
       "      'type': 'uint256',\n",
       "      'indexed': False,\n",
       "      'decoded': True,\n",
       "      'value': '6665000000'}]}}]}"
      ]
     },
     "execution_count": 21,
     "metadata": {},
     "output_type": "execute_result"
    }
   ],
   "source": [
    "for i in range(len(temp['items']))\n",
    "temp['items'][0]"
   ]
  },
  {
   "cell_type": "code",
   "execution_count": null,
   "id": "db279de2",
   "metadata": {},
   "outputs": [],
   "source": [
    "len(temp['items'][0])"
   ]
  },
  {
   "cell_type": "code",
   "execution_count": 3,
   "id": "99ab60f0",
   "metadata": {},
   "outputs": [
    {
     "name": "stdout",
     "output_type": "stream",
     "text": [
      "<Response [200]>\n"
     ]
    }
   ],
   "source": [
    "import requests\n",
    "\n",
    "url = f\"https://api.covalenthq.com/v1/1/address/{'0xbc4ca0eda7647a8ab7c2061c2e118a18a936f13d'}/transactions_v2/?quote-currency=USD&format=JSON&block-signed-at-asc=false&no-logs=false&page-size=100&key=ckey_03e969207241447bb814df6b463\"\n",
    "response = requests.get(url)\n",
    "print(response)"
   ]
  },
  {
   "cell_type": "code",
   "execution_count": 1,
   "id": "cfa99bce-4f6c-4381-bbf9-7d8ceb3562ab",
   "metadata": {},
   "outputs": [
    {
     "name": "stdout",
     "output_type": "stream",
     "text": [
      "https://api.covalenthq.com/v1/1/address/0xB8d1C5D0B34C2335D56A954b91F8BD533a04C2fc/transactions_v2/?quote-currency=USD&format=JSON&block-signed-at-asc=false&no-logs=false&page-size=100&key=ckey_03e969207241447bb814df6b463\n"
     ]
    },
    {
     "ename": "NameError",
     "evalue": "name 'flatdict' is not defined",
     "output_type": "error",
     "traceback": [
      "\u001b[1;31m---------------------------------------------------------------------------\u001b[0m",
      "\u001b[1;31mNameError\u001b[0m                                 Traceback (most recent call last)",
      "\u001b[1;32m<ipython-input-1-de6d0197f76a>\u001b[0m in \u001b[0;36m<module>\u001b[1;34m\u001b[0m\n\u001b[0;32m     36\u001b[0m \u001b[1;33m\u001b[0m\u001b[0m\n\u001b[0;32m     37\u001b[0m \u001b[0maddress\u001b[0m \u001b[1;33m=\u001b[0m \u001b[1;34m'0xB8d1C5D0B34C2335D56A954b91F8BD533a04C2fc'\u001b[0m\u001b[1;33m\u001b[0m\u001b[1;33m\u001b[0m\u001b[0m\n\u001b[1;32m---> 38\u001b[1;33m \u001b[0mflag_liquidated\u001b[0m\u001b[1;33m(\u001b[0m\u001b[0maddress\u001b[0m\u001b[1;33m)\u001b[0m\u001b[1;33m\u001b[0m\u001b[1;33m\u001b[0m\u001b[0m\n\u001b[0m",
      "\u001b[1;32m<ipython-input-1-de6d0197f76a>\u001b[0m in \u001b[0;36mflag_liquidated\u001b[1;34m(address)\u001b[0m\n\u001b[0;32m     16\u001b[0m     \u001b[0mjson\u001b[0m \u001b[1;33m=\u001b[0m \u001b[0mresponse\u001b[0m\u001b[1;33m.\u001b[0m\u001b[0mjson\u001b[0m\u001b[1;33m(\u001b[0m\u001b[1;33m)\u001b[0m\u001b[1;33m\u001b[0m\u001b[1;33m\u001b[0m\u001b[0m\n\u001b[0;32m     17\u001b[0m \u001b[1;33m\u001b[0m\u001b[0m\n\u001b[1;32m---> 18\u001b[1;33m     \u001b[0mdic\u001b[0m \u001b[1;33m=\u001b[0m \u001b[0mflatdict\u001b[0m\u001b[1;33m.\u001b[0m\u001b[0mFlatDict\u001b[0m\u001b[1;33m(\u001b[0m\u001b[0mjson\u001b[0m\u001b[1;33m,\u001b[0m \u001b[0mdelimiter\u001b[0m\u001b[1;33m=\u001b[0m\u001b[1;34m'.'\u001b[0m\u001b[1;33m)\u001b[0m\u001b[1;33m\u001b[0m\u001b[1;33m\u001b[0m\u001b[0m\n\u001b[0m\u001b[0;32m     19\u001b[0m \u001b[1;33m\u001b[0m\u001b[0m\n\u001b[0;32m     20\u001b[0m     \u001b[0mvalues\u001b[0m \u001b[1;33m=\u001b[0m \u001b[0mset\u001b[0m\u001b[1;33m(\u001b[0m\u001b[0mchain\u001b[0m\u001b[1;33m.\u001b[0m\u001b[0mfrom_iterable\u001b[0m\u001b[1;33m(\u001b[0m\u001b[0mi\u001b[0m\u001b[1;33m.\u001b[0m\u001b[0mvalues\u001b[0m\u001b[1;33m(\u001b[0m\u001b[1;33m)\u001b[0m \u001b[1;32mfor\u001b[0m \u001b[0mi\u001b[0m \u001b[1;32min\u001b[0m \u001b[0mjson\u001b[0m\u001b[1;33m.\u001b[0m\u001b[0mvalues\u001b[0m\u001b[1;33m(\u001b[0m\u001b[1;33m)\u001b[0m\u001b[1;33m)\u001b[0m\u001b[1;33m)\u001b[0m\u001b[1;33m\u001b[0m\u001b[1;33m\u001b[0m\u001b[0m\n",
      "\u001b[1;31mNameError\u001b[0m: name 'flatdict' is not defined"
     ]
    }
   ],
   "source": [
    "json = response.json() \n",
    "\n",
    "dic = flatdict.FlatDict(json, delimiter='.')\n",
    "\n",
    "values = set(chain.from_iterable(i.values() for i in json.values()))\n",
    "\n",
    "\n",
    "#     for x in range(len(json[\"data\"][\"items\"])):\n",
    "#         for y in range(len(json[\"data\"][\"items\"][x][\"log_events\"])):\n",
    "#             print(json[\"data\"][\"items\"][x][\"log_events\"][y])\n",
    "\n",
    "\n",
    "\n",
    "\n",
    "\n",
    "\n",
    "\n",
    "\n",
    "# with open('tx_by_address.json', 'wb') as outf:\n",
    "#     outf.write(response.content)\n",
    "\n",
    "address = '0xB8d1C5D0B34C2335D56A954b91F8BD533a04C2fc'\n",
    "flag_liquidated(address)"
   ]
  },
  {
   "cell_type": "code",
   "execution_count": null,
   "id": "f6e88edb-dfb8-4501-af9e-b353799bf49a",
   "metadata": {},
   "outputs": [],
   "source": [
    "\n"
   ]
  },
  {
   "cell_type": "code",
   "execution_count": null,
   "id": "bdf61acb-91c1-48aa-bf90-e8960fb96de3",
   "metadata": {},
   "outputs": [],
   "source": []
  },
  {
   "cell_type": "code",
   "execution_count": null,
   "id": "cc6f73e6-14f5-4c69-9326-b575fe499c04",
   "metadata": {},
   "outputs": [],
   "source": []
  }
 ],
 "metadata": {
  "kernelspec": {
   "display_name": "Python 3",
   "language": "python",
   "name": "python3"
  },
  "language_info": {
   "codemirror_mode": {
    "name": "ipython",
    "version": 3
   },
   "file_extension": ".py",
   "mimetype": "text/x-python",
   "name": "python",
   "nbconvert_exporter": "python",
   "pygments_lexer": "ipython3",
   "version": "3.8.8"
  }
 },
 "nbformat": 4,
 "nbformat_minor": 5
}
